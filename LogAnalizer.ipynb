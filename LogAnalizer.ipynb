{
 "cells": [
  {
   "cell_type": "code",
   "execution_count": 1,
   "metadata": {},
   "outputs": [],
   "source": [
    "import sys\n",
    "from matplotlib import pyplot as plt\n"
   ]
  },
  {
   "cell_type": "code",
   "execution_count": 2,
   "metadata": {},
   "outputs": [],
   "source": [
    "class rocket_sensor_data_log:\n",
    "    def __init__(self, time, t_t1, t_t2, c_t1, c_t2, c_t3, t_p1, t_p2, t_p, t_l, t1, c_p):\n",
    "        self.time = time\n",
    "\n",
    "        self.t_t1 = t_t1\n",
    "        self.t_t2 = t_t2\n",
    "\n",
    "        self.c_t1 = c_t1\n",
    "        self.c_t2 = c_t2\n",
    "        self.c_t3 = c_t3\n",
    "\n",
    "        self.t_p1 = t_p1\n",
    "        self.t_p2 = t_p2\n",
    "\n",
    "        self.t_p = t_p\n",
    "\n",
    "        self.t_l = t_l\n",
    "\n",
    "        self.t1 = t1\n",
    "\n",
    "        self.c_p = c_p\n",
    "\n",
    "sensor_data_arr = []"
   ]
  },
  {
   "cell_type": "code",
   "execution_count": 3,
   "metadata": {},
   "outputs": [],
   "source": [
    "class fill_station_sensor_data_log:\n",
    "    def __init__(self, time, t_p, t_l, t1, t2, t3, p1, p2, p3, ematch, weight, tactile):\n",
    "        self.time = time\n",
    "\n",
    "        self.t_p = t_p\n",
    "        self.t_l = t_l\n",
    "\n",
    "        self.t1 = t1\n",
    "        self.t2 = t2\n",
    "        self.t3 = t3\n",
    "\n",
    "        self.p1 = p1\n",
    "        self.p2 = p2\n",
    "        self.p3 = p3\n",
    "\n",
    "        self.ematch = ematch\n",
    "\n",
    "        self.weight = weight\n",
    "\n",
    "        self.tactile = tactile\n",
    "\n",
    "fill_sensor_data_arr = []"
   ]
  },
  {
   "cell_type": "code",
   "execution_count": 4,
   "metadata": {},
   "outputs": [],
   "source": [
    "SENSOR_READING = 0\n",
    "MSG_RECEIVED = 1\n",
    "MSG_SENT = 2\n",
    "SYSTEM_ERROR = 3\n",
    "STATE_CHANGE = 4\n",
    "EVENT_REACTION = 5"
   ]
  },
  {
   "cell_type": "code",
   "execution_count": 5,
   "metadata": {},
   "outputs": [
    {
     "name": "stdout",
     "output_type": "stream",
     "text": [
      "5322504\n",
      "b\"\\x01\\x00\\x00\\x0f\\xaf\\x00\\x02$\\x01\\x00\\xf1\\x00\\x94'\\xfd'\\xfd\\x01\\x18\\x10\\xe5\\x10\\xe4\\x10\\xe6'9\\x00\\x004\\xff\\xc0\\xff\\xfb\\x00\\x02\\xff\\xee\\x00\\x00\\xff\\xff\\x00\\x0e\\x01\\x00\\x00\\x0f\\xbb\\x00\\x01\\x16\\x01\\x10\\xe6'9\\x01\\x0e\\x01\\x13\\x00\\xcf\\x17\\xf2\\x17\\x8c\\x10\\xf8\\x00\\x00\\xff\\xe8\\x00\\x01\\x00\\x00\\x0f\\xe2\\x00\\x02$\\x01\\x00\\xf1\\x00\\x94'\\xfd'\\xfd\\x01\\x18\\x10\\xe5\\x10\\xe5\\x10\\xe5'\"\n"
     ]
    }
   ],
   "source": [
    "buff = []\n",
    "with open(\"logs/log_5_9_2024_17933.bin\", 'rb') as f:\n",
    "    buff.append(f.read())\n",
    "buff = buff[0]\n",
    "\n",
    "print(len(buff))\n",
    "print(buff[0:100])"
   ]
  },
  {
   "cell_type": "code",
   "execution_count": 6,
   "metadata": {},
   "outputs": [
    {
     "name": "stdout",
     "output_type": "stream",
     "text": [
      "63296 64930\n"
     ]
    }
   ],
   "source": [
    "#fill station\n",
    "rocket_sensor_data_arr = []\n",
    "fill_sensor_data_arr = []\n",
    "c1 = 0\n",
    "c2 = 0\n",
    "\n",
    "index = 0\n",
    "while index < len(buff):\n",
    "    #print(index)\n",
    "    if(buff[index] == MSG_RECEIVED):\n",
    "        time = int.from_bytes(buff[index + 1 : index + 5], byteorder='big', signed=True) \n",
    "        cmd = int.from_bytes(buff[index + 5 : index + 6], byteorder='big', signed=True) \n",
    "        id = int.from_bytes(buff[index + 6 : index + 7], byteorder='big', signed=True) \n",
    "        size = int.from_bytes(buff[index + 7 : index + 8], byteorder='big', signed=False) \n",
    "        \n",
    "        data = []\n",
    "        for i in range(size):\n",
    "            data.append(int.from_bytes(buff[index + 8 + i : index + 9 + i], byteorder='big', signed=False))\n",
    "        \n",
    "        if((cmd == 0 and id == 1) or (cmd == 14 and id == 2)): # change size according to filling payload size\n",
    "            t_p = int.from_bytes(data[1 : 3], byteorder='big', signed=True)\n",
    "            t_l = int.from_bytes(data[3 : 5], byteorder='big', signed=True)\n",
    "            t1 = int.from_bytes(data[5 : 7], byteorder='big', signed=True) \n",
    "            t2 = int.from_bytes(data[7 : 9], byteorder='big', signed=True)\n",
    "            t3 = int.from_bytes(data[9 : 11], byteorder='big', signed=True)\n",
    "            p1 = int.from_bytes(data[11 : 13], byteorder='big', signed=True) \n",
    "            p2 = int.from_bytes(data[13 : 15], byteorder='big', signed=True)\n",
    "            p3 = int.from_bytes(data[15 : 17], byteorder='big', signed=True)\n",
    "            ematch = int.from_bytes(data[17 : 19], byteorder='big', signed=True)\n",
    "            weight = int.from_bytes(data[19 : 21], byteorder='big', signed=True)\n",
    "            tactile = int.from_bytes(buff[21 : 22], byteorder='big', signed=True)\n",
    "            fill_sensor_data_arr.append(fill_station_sensor_data_log(time, t_p, t_l, t1, t2, t3, p1, p2, p3, ematch, weight, tactile))\n",
    "            index += 26\n",
    "            c1 += 1\n",
    "        elif((cmd == 0 and id == 2) or (cmd == 14 and id == 1)): # change size according to rocket payload size\n",
    "            t_t1 = int.from_bytes(data[1 : 3], byteorder='big', signed=True) \n",
    "            t_t2 = int.from_bytes(data[3 : 5], byteorder='big', signed=True)\n",
    "            c_t1 = int.from_bytes(data[5 : 7], byteorder='big', signed=True)\n",
    "            c_t2 = int.from_bytes(data[7 : 9], byteorder='big', signed=True)\n",
    "            c_t3 = int.from_bytes(data[9 : 11], byteorder='big', signed=True)\n",
    "            t_p1 = int.from_bytes(data[11 : 13], byteorder='big', signed=True)\n",
    "            t_p2 = int.from_bytes(data[13 : 15], byteorder='big', signed=True)\n",
    "            t_p = int.from_bytes(data[15 : 17], byteorder='big', signed=True)\n",
    "            t_l = int.from_bytes(data[17 : 19], byteorder='big', signed=True)\n",
    "            tactile = int.from_bytes(data[19 : 20], byteorder='big', signed=True)\n",
    "            c_p = int.from_bytes(data[26 : 28], byteorder='big', signed=True)\n",
    "            rocket_sensor_data_arr.append(rocket_sensor_data_log(time, t_t1, t_t2, c_t1, c_t2, c_t3, t_p1, t_p2, t_p, t_l, tactile, c_p))\n",
    "            index += 40\n",
    "            c2 += 1\n",
    "        else: \n",
    "            index += size + 8\n",
    "    else:\n",
    "        index += 1\n",
    "\n",
    "print(c1,c2)"
   ]
  },
  {
   "cell_type": "code",
   "execution_count": 11,
   "metadata": {},
   "outputs": [
    {
     "name": "stdout",
     "output_type": "stream",
     "text": [
      "4015\n",
      "3936652\n",
      "3937653\n"
     ]
    },
    {
     "data": {
      "image/png": "[encoded data removed]",
      "text/plain": [
       "<Figure size 640x480 with 1 Axes>"
      ]
     },
     "metadata": {},
     "output_type": "display_data"
    }
   ],
   "source": [
    "#make plots fill station temperature \n",
    "\n",
    "fig, ax = plt.subplots()\n",
    "\n",
    "#plot tank temperatures\n",
    "x = [log.time for log in rocket_sensor_data_arr[:-1]]\n",
    "#ax.plot(x, [log.p1 for log in fill_sensor_data_arr[:-1]], color='r')\n",
    "#ax.plot(x, [log.p2 for log in fill_sensor_data_arr[:-1]], color='g')\n",
    "#ax.plot(x, [log.p3 for log in fill_sensor_data_arr[:-1]], color='b')\n",
    "ax.plot(x, [log.t_p1 for log in rocket_sensor_data_arr[:-1]], color='y')\n",
    "\n",
    "print(x[0])\n",
    "print(x[-1])\n",
    "print(rocket_sensor_data_arr[-1].time)\n",
    "plt.show()"
   ]
  },
  {
   "cell_type": "code",
   "execution_count": 16,
   "metadata": {},
   "outputs": [
    {
     "name": "stdout",
     "output_type": "stream",
     "text": [
      "4027\n",
      "3929424\n",
      "64546\n"
     ]
    },
    {
     "data": {
      "image/png": "[encoded data removed]",
      "text/plain": [
       "<Figure size 640x480 with 1 Axes>"
      ]
     },
     "metadata": {},
     "output_type": "display_data"
    }
   ],
   "source": [
    "\n",
    "fig, ax = plt.subplots()\n",
    "\n",
    "#plot tank temperatures\n",
    "x = [log.time for log in fill_sensor_data_arr[:-1]]\n",
    "#ax.plot(x, [log.ematch for log in fill_sensor_data_arr[:-1]])\n",
    "ax.plot(x, [log.p1 for log in fill_sensor_data_arr[:-1]])\n",
    "#ax.plot(x, [log.p2 for log in fill_sensor_data_arr[:-1]])\n",
    "#ax.plot(x, [log.p3 for log in fill_sensor_data_arr[:-1]])\n",
    "#ax.plot(x, [log.t1 for log in fill_sensor_data_arr[:-1]])\n",
    "\n",
    "#ax.vlines([log.time for log in msg_sent_arr], 0, 1000, colors='g')\n",
    "print(x[0])\n",
    "print(x[-1])\n",
    "print(fill_sensor_data_arr[-1].time)\n",
    "plt.show()"
   ]
  },
  {
   "cell_type": "code",
   "execution_count": null,
   "metadata": {},
   "outputs": [],
   "source": [
    "#make plots rocket\n",
    "\n",
    "fig, ax = plt.subplots()\n",
    "\n",
    "#plot tank temperatures\n",
    "x = [log.time for log in sensor_data_arr]\n",
    "ax.plot(x, [log.t_t1 / 10  for log in sensor_data_arr])\n",
    "ax.plot(x, [log.t_t2 / 10 for log in sensor_data_arr])\n",
    "#ax.plot(x, [log.c_t1 for log in sensor_data_arr])\n",
    "#ax.plot(x, [log.c_t2 for log in sensor_data_arr])\n",
    "#ax.plot(x, [log.c_t3 for log in sensor_data_arr])\n",
    "#ax.plot(x, [log.c_p / 100 for log in sensor_data_arr])\n",
    "ax.plot(x, [log.t_p1 / 100 for log in sensor_data_arr])\n",
    "#ax.plot(x, [log.t_p2 / 100 for log in sensor_data_arr])\n",
    "\n",
    "ax.vlines([log.time for log in state_change_arr if log.state == 8], 0, 60, colors='r')\n",
    "ax.set_xlim(0.4 * 1e7, 0.5 * 1e7)\n",
    "ax.vlines([log.time for log in state_change_arr if log.state == 7], 0, 60, colors='y')\n",
    "ax.vlines([log.time for log in msg_sent_arr if log.cmd == 7], 0, 60, colors='b')\n",
    "plt.show()\n",
    "\n",
    "print([log.time for log in state_change_arr if log.state == 7])\n",
    "\n",
    "arr = [log.time for log in state_change_arr if log.state == 7]\n",
    "\n",
    "avg_b = 0\n",
    "avg_t = 0\n",
    "count = 0\n",
    "\n",
    "for log in sensor_data_arr:\n",
    "    if log.time >= arr[0] and log.time <= arr[1]:\n",
    "        avg_t += log.t_p1\n",
    "        avg_b += log.t_p2\n",
    "        count += 1\n",
    "\n",
    "avg_t = avg_t / count\n",
    "avg_b = avg_b / count\n",
    "\n",
    "print(avg_t / 100, avg_b / 100)\n",
    "print(sensor_data_arr[0].t_t1)\n",
    "print(sensor_data_arr[0].t_t2)"
   ]
  }
 ],
 "metadata": {
  "kernelspec": {
   "display_name": "Python 3",
   "language": "python",
   "name": "python3"
  },
  "language_info": {
   "codemirror_mode": {
    "name": "ipython",
    "version": 3
   },
   "file_extension": ".py",
   "mimetype": "text/x-python",
   "name": "python",
   "nbconvert_exporter": "python",
   "pygments_lexer": "ipython3",
   "version": "3.11.8"
  }
 },
 "nbformat": 4,
 "nbformat_minor": 2
}
